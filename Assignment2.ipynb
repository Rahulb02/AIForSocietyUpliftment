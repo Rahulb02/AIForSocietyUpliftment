{
 "cells": [
  {
   "cell_type": "markdown",
   "metadata": {},
   "source": [
    "#Assignment2"
   ]
  },
  {
   "cell_type": "markdown",
   "metadata": {},
   "source": [
    "Q1. Create the below pattern using nested for loop in Python\n",
    "\n",
    "*\n",
    "* * \n",
    "* * * \n",
    "* * * * \n",
    "* * * * * \n",
    "* * * * \n",
    "* * * \n",
    "* * \n",
    "* "
   ]
  },
  {
   "cell_type": "code",
   "execution_count": 13,
   "metadata": {},
   "outputs": [
    {
     "name": "stdout",
     "output_type": "stream",
     "text": [
      "*\n",
      "**\n",
      "***\n",
      "****\n",
      "*****\n",
      "****\n",
      "***\n",
      "**\n",
      "*\n"
     ]
    }
   ],
   "source": [
    "i=0\n",
    "j=0\n",
    "k=0\n",
    "while(i<9):\n",
    "    print(\"*\", end=\"\")\n",
    "    while(j<i and i<5):\n",
    "        print(\"*\", end=\"\")\n",
    "        j=j+1\n",
    "    while(i>=5 and k< 8-i):\n",
    "        print(\"*\", end=\"\")\n",
    "        k=k+1\n",
    "    print(\"\")\n",
    "    i=i+1\n",
    "    j=0\n",
    "    k=0"
   ]
  },
  {
   "cell_type": "markdown",
   "metadata": {},
   "source": [
    "Q2. Write a Python program to reverse a word after accepting the input from the user.\n",
    " \n",
    "Sample Output: \n",
    " \n",
    "Input word: ineuron\n",
    " \n",
    "Output: norueni\n"
   ]
  },
  {
   "cell_type": "code",
   "execution_count": 18,
   "metadata": {},
   "outputs": [
    {
     "name": "stdout",
     "output_type": "stream",
     "text": [
      "Enter a string of your choice\n",
      "Palindrome\n",
      "Original String is : Palindrome\n",
      "Reverse String is : emordnilaP\n"
     ]
    }
   ],
   "source": [
    "print(\"Enter a string of your choice\")\n",
    "revstr = \"\"\n",
    "theString = input()\n",
    "for i in theString:\n",
    "    revstr = i + revstr\n",
    "print(\"Original String is : \" + theString)\n",
    "print(\"Reverse String is : \" + revstr)"
   ]
  }
 ],
 "metadata": {
  "kernelspec": {
   "display_name": "Python 3",
   "language": "python",
   "name": "python3"
  },
  "language_info": {
   "codemirror_mode": {
    "name": "ipython",
    "version": 3
   },
   "file_extension": ".py",
   "mimetype": "text/x-python",
   "name": "python",
   "nbconvert_exporter": "python",
   "pygments_lexer": "ipython3",
   "version": "3.7.1"
  }
 },
 "nbformat": 4,
 "nbformat_minor": 2
}
